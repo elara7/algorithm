{
 "cells": [
  {
   "cell_type": "markdown",
   "metadata": {},
   "source": [
    "第k小元素问题\n",
    "\n",
    "原始解法：将数列排序，nlogn时间，然后取出第k个元素\n",
    "\n",
    "k=1：遍历一遍，找到最小值（n）\n",
    "\n",
    "k=n：遍历一边，找到最大值（n）\n",
    "\n",
    "k为中位数："
   ]
  },
  {
   "cell_type": "markdown",
   "metadata": {},
   "source": [
    "方法1：随机选择（随机分治算法）\n",
    "\n",
    "A= 6 10 13 5 8 3 2 11，找第7大\n",
    "\n",
    "划分：\n",
    "\n",
    "2 5 3 6 8 13 10 11\n",
    "\n",
    "此时返回r为4，即6是第4小，我们要找的i=7比4大\n",
    "\n",
    "去掉前面4个元素，剩下\n",
    "\n",
    "8 13 10 11，此时变成找i=3大\n",
    "\n",
    "算法时间：\n",
    "\n",
    "元素都不相等：\n",
    "\n",
    "且正好在正中间划分（1/10也差不多），O(n)\n",
    "\n",
    "最坏情况：\n",
    "\n",
    "划分后两边分别为0和n-1个元素，O(n2)\n",
    "\n",
    "期望时间：O(n)"
   ]
  },
  {
   "cell_type": "code",
   "execution_count": 6,
   "metadata": {
    "collapsed": true
   },
   "outputs": [],
   "source": [
    "#定义快速排序划分函数\n",
    "def partition(A,p,q):\n",
    "    x = A[p]\n",
    "    i = p\n",
    "    for j in range(p+1,q+1):\n",
    "        if A[j] <= x:\n",
    "            i = i+1\n",
    "            t=A[j]\n",
    "            A[j]=A[i]\n",
    "            A[i]=t\n",
    "    t=A[i]\n",
    "    A[i]=A[p]\n",
    "    A[p]=t\n",
    "    return i\n",
    "    "
   ]
  },
  {
   "cell_type": "code",
   "execution_count": 13,
   "metadata": {
    "collapsed": true
   },
   "outputs": [],
   "source": [
    "def rand_select(A,p,q,i): #从A的p到q之间寻找第i小的数\n",
    "    # 如果p=q，只有一个数，返回值\n",
    "    if p ==q:\n",
    "        return A[p]\n",
    "    # 否则，随机按一个数划分成大于和小于的部分，找到划分点\n",
    "    # r返回的是从0开始计算的位置\n",
    "    r = partition(A,p,q) #返回的是全局index\n",
    "    k = r-p+1 #转化为A[p,q]内的，从1开始计算的index，方便和i比\n",
    "    \n",
    "    \n",
    "    \n",
    "    if i == k :\n",
    "        return A[r]\n",
    "    if i<k : # 说明要找的数在划分后数列的左边\n",
    "        return rand_select(A,p,r-1,i)\n",
    "    else:  # 在右边，但是这时候我们要排除掉前面k个元素，所以第i小变成i-k\n",
    "        return rand_select(A,r+1,q,i-k)\n",
    "    "
   ]
  },
  {
   "cell_type": "code",
   "execution_count": 18,
   "metadata": {},
   "outputs": [
    {
     "data": {
      "text/plain": [
       "5"
      ]
     },
     "execution_count": 18,
     "metadata": {},
     "output_type": "execute_result"
    }
   ],
   "source": [
    "rand_select([6,10,13,5,8,3,2,11],0,7,3)"
   ]
  },
  {
   "cell_type": "markdown",
   "metadata": {},
   "source": [
    "worst-case linear-time order stats\n",
    "最坏情况是O(n)\n",
    "\n",
    "select(i,n)\n",
    "\n",
    "1.将数据排成5行\n",
    "x x x x x x x x \n",
    "\n",
    "x x x x x x x x \n",
    "\n",
    "x x x x x x x x \n",
    "\n",
    "x x x x x x x x\n",
    "\n",
    "x x x x x \n",
    "\n",
    "对每一列计算中值（第3大），需要O(n)时间，因为只有5个数，每一列内部的比较时间是样本无关的O(1)，而列数和n线性相关，所以总时间O(n)\n",
    "并将每一列的数据按比中值大和小划分开\n",
    "\n",
    "2.计算所有列中值 的中值，用时T(n/5)，记为x\n",
    "并将所有中值按照比x大和小划分开，并带着其对应的列一起移动\n",
    "\n",
    "3.在x处划分，k=rank(x)\n",
    "\n",
    "4.如果i=k那么返回x\n",
    "  如果i< k,那么，在比x小的区域找第i小\n",
    "  如果i> k,那么，在比x大的区域找第i-k小\n",
    "\n",
    "\n",
    "然而实际上用随机选择比较多。\n"
   ]
  },
  {
   "cell_type": "code",
   "execution_count": null,
   "metadata": {
    "collapsed": true
   },
   "outputs": [],
   "source": [
    "\n"
   ]
  }
 ],
 "metadata": {
  "kernelspec": {
   "display_name": "Python 2",
   "language": "python",
   "name": "python2"
  },
  "language_info": {
   "codemirror_mode": {
    "name": "ipython",
    "version": 2
   },
   "file_extension": ".py",
   "mimetype": "text/x-python",
   "name": "python",
   "nbconvert_exporter": "python",
   "pygments_lexer": "ipython2",
   "version": "2.7.13"
  }
 },
 "nbformat": 4,
 "nbformat_minor": 2
}
