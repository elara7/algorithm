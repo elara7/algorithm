{
 "cells": [
  {
   "cell_type": "markdown",
   "metadata": {},
   "source": [
    "输入[9,8,7,6,5,4,3,2,1,0]\n",
    "输出[0,1,2,3,4,5,6,7,8,9]"
   ]
  },
  {
   "cell_type": "markdown",
   "metadata": {},
   "source": [
    "插入排序\n",
    "时间复杂度：O(n2)"
   ]
  },
  {
   "cell_type": "code",
   "execution_count": 1,
   "metadata": {
    "collapsed": true
   },
   "outputs": [],
   "source": [
    "a = [9,8,7,6,5,4,3,2,1,0]"
   ]
  },
  {
   "cell_type": "code",
   "execution_count": 5,
   "metadata": {
    "collapsed": true
   },
   "outputs": [],
   "source": [
    "def insertion_sort(A):\n",
    "    for j in range(len(A)):\n",
    "        key = A[j]\n",
    "        i = j - 1\n",
    "        while i >= 0 and A[i] > key:\n",
    "            A[i+1] = A[i]\n",
    "            i = i - 1\n",
    "        A[i+1] = key\n",
    "    return A"
   ]
  },
  {
   "cell_type": "code",
   "execution_count": 6,
   "metadata": {
    "scrolled": true
   },
   "outputs": [
    {
     "data": {
      "text/plain": [
       "[0, 1, 2, 3, 4, 5, 6, 7, 8, 9]"
      ]
     },
     "execution_count": 6,
     "metadata": {},
     "output_type": "execute_result"
    }
   ],
   "source": [
    "insertion_sort(a)"
   ]
  },
  {
   "cell_type": "markdown",
   "metadata": {},
   "source": [
    "归并排序\n",
    "时间复杂度：\n",
    "Merge：O(n)\n",
    "递归排序：2T(n/2)\n",
    "如果n=1， O(1)\n",
    "如果n>1，T(n)=2T(n/2) + O(n)\n",
    "递归树解法：拆分，树的高度为lgn。n到1的折半次数\n",
    "叶子节点有n个\n",
    "每层树的工作量都是cn\n",
    "所以最后是cn x lgn\n",
    "最终为O(nlgn)"
   ]
  },
  {
   "cell_type": "code",
   "execution_count": 51,
   "metadata": {
    "collapsed": true
   },
   "outputs": [],
   "source": [
    "# 假设数组A[p,q]和A[q+1,r]已经排好序，合并替代A[p,r]\n",
    "def merge(A, p, q, r):\n",
    "    #取出A[p,q]\n",
    "    Lp = [None]*(q-p+2)\n",
    "    Lp[q-p+1] = float('inf')\n",
    "    for i in range(q-p+1):\n",
    "        Lp[i] = A[p+i]\n",
    "    #取出A[q+1,r]\n",
    "    Rp = [None]*(r-q+1)\n",
    "    Rp[r-q] = float('inf')\n",
    "    for j in range(r-q):\n",
    "        Rp[j] = A[q+1+j]\n",
    "    #2个指针\n",
    "    i = 0\n",
    "    j = 0\n",
    "    #排序\n",
    "    for k in range(r-p+1):\n",
    "        if Lp[i] <= Rp[j]:\n",
    "            A[p+k] = Lp[i]\n",
    "            i = i + 1\n",
    "        else:\n",
    "            A[p+k] = Rp[j]\n",
    "            j = j + 1\n",
    "\n",
    "# 对A[p,r]排序\n",
    "def merge_sort(A,p,r):\n",
    "    # 如果还没到单元素则继续归并，否则停止\n",
    "    if p < r:\n",
    "        q = (p+r)/2\n",
    "        merge_sort(A,p,q)\n",
    "        merge_sort(A,q+1,r)\n",
    "        merge(A,p,q,r)\n"
   ]
  },
  {
   "cell_type": "code",
   "execution_count": 53,
   "metadata": {
    "scrolled": true
   },
   "outputs": [
    {
     "data": {
      "text/plain": [
       "[1, 2, 3, 4, 5, 6, 7, 8, 9, 10]"
      ]
     },
     "execution_count": 53,
     "metadata": {},
     "output_type": "execute_result"
    }
   ],
   "source": [
    "merge_sort([1,3,5,7,9,2,4,6,8,10],0,9)"
   ]
  },
  {
   "cell_type": "markdown",
   "metadata": {},
   "source": [
    "分治法\n",
    "排序里面要nlgn是因为每次还要进行一个n的merge\n",
    "\n",
    "二分查找\n",
    "1.x与数组中间元素查找，分配到合适的一半查找\n",
    "直到找到x\n",
    "复杂度：lgn\n",
    "\n",
    "乘方问题\n",
    "计算x的次方\n",
    "对n递归二分，\n",
    "直到剩下1个元素，然后merge用乘法\n",
    "复杂度：lgn\n",
    "\n",
    "计算斐波那契数列\n",
    "直接递归，没有降低复杂度，计算量是黄金比例值的n次方（指数级别）\n",
    "依次计算，复杂度n\n",
    "朴素平方递归可以直接用黄金分割的n次方/根号5得到，但是精度会出问题\n",
    "平方递归\n",
    "(Fn+1,Fn,Fn,Fn-1)是(1,1,1,0)的n次方,变成乘方问题，复杂度lgn\n",
    "\n",
    "nxn矩阵乘法\n",
    "计算内积需要n，每个都计算需要n2，总共要O(n3)\n",
    "分治法：\n",
    "矩阵分块，分成4个n/2的部分\n",
    "递归计算，直到剩下1个元素\n",
    "merge的时候计算n2，最后还是O(n3)\n",
    "斯特拉森算法\n",
    "减少乘法次数\n",
    "构造一个2x2矩阵乘法只要7次计算的算法\n",
    "T(n)=7T(n/2)+O(n2)\n",
    "结果是O(n的2.81次方)比on3好\n",
    "还有更好的\n",
    "\n",
    "二叉树在网格上怎么画，面积最小\n",
    "从下而上画，最好nlgn\n",
    "H形布局 O(n)\n"
   ]
  },
  {
   "cell_type": "markdown",
   "metadata": {},
   "source": [
    "快速排序\n",
    "分治算法，原地排序（归并需要额外空间，插入也是原地排序）\n",
    "1. 选取一个x，让小的在一边，大的在一边\n",
    "2. 分治处理2边的数据\n",
    "3. 不用merge了，直接合并\n",
    "复杂度O(n)\n",
    "partition(A,p,q)\n",
    "x = A[p]\n",
    "i = p\n",
    "for j p+1 to q\n",
    "    do if A[j]<=x 只有在比x小的部分才操作\n",
    "     then i = i + 1\n",
    "         A[i]<->A[j] 互换界限位置  \n",
    "A[p] <-> A[i]\n",
    "return i\n",
    "o(n)\n",
    "quicksort(A,p,q)\n",
    "if p<q \n",
    "    then r = partition(A,p,q)\n",
    "        quicksort(A,p,r-1)\n",
    "        quicksort(A,r+1,q)\n",
    "quicksort(A,1,n)\n",
    "最坏情况：数据已经排序了或者逆序了\n",
    "T(n)=T(0)+T(n-1)+O(n)\n",
    "最后为O(n2)和插入排序一样\n",
    "得到的是非常不平衡的递归树\n",
    "最优情况：划分在正中间，nlgn\n",
    "但是划分在1：9的位置，仍然是nlgn\n",
    "划分一次最优一次最差交替，仍然是nlgn\n",
    "优化：\n",
    "随机化快速排序\n",
    "此时得到的就是平均nlgn\n",
    "先随机输入，或者随机选择主元（将首元素随机和一个元素交换）\n",
    "\n",
    "实际使用中快速排序比归并快3倍，虽然不能保证最坏nlgn"
   ]
  },
  {
   "cell_type": "markdown",
   "metadata": {},
   "source": [
    "二分查找 lgn\n",
    "输入[1,2,3,4,5,6,7,8]和3"
   ]
  },
  {
   "cell_type": "code",
   "execution_count": 61,
   "metadata": {
    "collapsed": true
   },
   "outputs": [],
   "source": [
    "def devide_search(A, p, q, x):\n",
    "    n = (p+q)/2\n",
    "    if A[n]==x:\n",
    "        return n\n",
    "    elif A[n] < x:\n",
    "        return devide_search(A,n,q,x)\n",
    "    elif A[n] > x:\n",
    "        return devide_search(A,p,n,x)\n",
    "    else:\n",
    "        return 'None'\n",
    "        "
   ]
  },
  {
   "cell_type": "code",
   "execution_count": 65,
   "metadata": {},
   "outputs": [
    {
     "data": {
      "text/plain": [
       "6"
      ]
     },
     "execution_count": 65,
     "metadata": {},
     "output_type": "execute_result"
    }
   ],
   "source": [
    "devide_search([1,2,3,4,5,6,7,8,9,10],0,9,7)"
   ]
  },
  {
   "cell_type": "markdown",
   "metadata": {},
   "source": [
    "乘方问题 lgn\n",
    "计算x的y次方"
   ]
  },
  {
   "cell_type": "code",
   "execution_count": 71,
   "metadata": {
    "collapsed": true
   },
   "outputs": [],
   "source": [
    "def pow_self(x,y):\n",
    "    if y == 1:\n",
    "        return x\n",
    "    elif y/2*2==y:\n",
    "        return pow_self(x,y/2)*pow_self(x,y/2)\n",
    "    else:\n",
    "        return pow_self(x,y/2)*pow_self(x,y/2)*x"
   ]
  },
  {
   "cell_type": "code",
   "execution_count": 74,
   "metadata": {},
   "outputs": [
    {
     "data": {
      "text/plain": [
       "27"
      ]
     },
     "execution_count": 74,
     "metadata": {},
     "output_type": "execute_result"
    }
   ],
   "source": [
    "pow_self(3,3)"
   ]
  },
  {
   "cell_type": "markdown",
   "metadata": {},
   "source": [
    "斐波那契数列 lgn"
   ]
  },
  {
   "cell_type": "markdown",
   "metadata": {},
   "source": [
    "快速排序\n",
    "最差n2，平均nlgn"
   ]
  },
  {
   "cell_type": "code",
   "execution_count": 92,
   "metadata": {
    "collapsed": true
   },
   "outputs": [],
   "source": [
    "def partition(A,p,q):\n",
    "    x = A[p]\n",
    "    i = p\n",
    "    for j in range(p+1,q+1):\n",
    "        if A[j] <= x:\n",
    "            i = i+1\n",
    "            t=A[j]\n",
    "            A[j]=A[i]\n",
    "            A[i]=t\n",
    "    t=A[i]\n",
    "    A[i]=A[p]\n",
    "    A[p]=t\n",
    "    return i\n",
    "def quicksort(A,p,q):\n",
    "    if p<q:\n",
    "        r = partition(A,p,q)\n",
    "        quicksort(A,p,r-1)\n",
    "        quicksort(A,r+1,q)"
   ]
  },
  {
   "cell_type": "code",
   "execution_count": 93,
   "metadata": {
    "scrolled": true
   },
   "outputs": [
    {
     "data": {
      "text/plain": [
       "[0, 2, 3, 5, 6, 7, 7, 9, 10]"
      ]
     },
     "execution_count": 93,
     "metadata": {},
     "output_type": "execute_result"
    }
   ],
   "source": [
    "A=[6,5,7,10,2,7,3,9,0]\n",
    "quicksort(A,0,8)\n",
    "A"
   ]
  },
  {
   "cell_type": "markdown",
   "metadata": {},
   "source": [
    "如果只允许两两元素交换，最好为n2\n",
    "\n",
    "在比较排序模型（只允许两个元素大小比较），最快速度为nlgn \n",
    "\n",
    "比较排序模型其实就是决策树 \n",
    "\n",
    "对n个数字，排序所需的时间就是树的深度，最好的最差情况为nlgn次比较\n",
    "\n",
    "在比较排序模型中，归并排序和堆排序是渐进最优的"
   ]
  },
  {
   "cell_type": "markdown",
   "metadata": {},
   "source": [
    "计数排序 复杂度k+n，k很小的时近似n，如果k很大考虑归并\n",
    "\n",
    "假设输入的数据是一定范围内的整数，如1到k\n",
    "\n",
    "辅助储存：k长的序列\n",
    "\n",
    "遍历数据，记录各种取值的出现次数\n",
    "得到出现次数的累加序列\n",
    "遍历数据，对应数字放在累加值位置上，并减去1个累加值"
   ]
  },
  {
   "cell_type": "markdown",
   "metadata": {},
   "source": [
    "基数排序 \n",
    "从最小位数开始排序，每轮用计数排序\n",
    "优化：\n",
    "不是数字位数作为最小单位，而是b/r，b位总位数，r为可以调节的参数\n",
    "r取lgn最好"
   ]
  },
  {
   "cell_type": "markdown",
   "metadata": {},
   "source": [
    "计数排序 k+n ，输入数列，数列的取值范围0-k-1"
   ]
  },
  {
   "cell_type": "code",
   "execution_count": 14,
   "metadata": {
    "collapsed": true
   },
   "outputs": [],
   "source": [
    "def count_sort(A,k):\n",
    "    c=[0]*k\n",
    "    n=len(A)\n",
    "    B=[None]*n\n",
    "    for i in range(n):\n",
    "        c[A[i]] = c[A[i]]+1\n",
    "    for j in range(k-1):\n",
    "        c[j+1] = c[j+1]+c[j]\n",
    "    for i in range(n):\n",
    "        B[c[A[i]]-1]=A[i]\n",
    "        c[A[i]] = c[A[i]] - 1\n",
    "    return B        "
   ]
  },
  {
   "cell_type": "code",
   "execution_count": 15,
   "metadata": {},
   "outputs": [
    {
     "data": {
      "text/plain": [
       "[3, 3, 3, 4, 4, 4, 6, 6, 7, 8, 8]"
      ]
     },
     "execution_count": 15,
     "metadata": {},
     "output_type": "execute_result"
    }
   ],
   "source": [
    "count_sort([8,6,4,3,6,4,4,3,3,7,8],9)"
   ]
  },
  {
   "cell_type": "markdown",
   "metadata": {},
   "source": [
    "基数排序 "
   ]
  },
  {
   "cell_type": "code",
   "execution_count": 16,
   "metadata": {
    "collapsed": true
   },
   "outputs": [],
   "source": [
    "\n",
    "     "
   ]
  },
  {
   "cell_type": "code",
   "execution_count": 17,
   "metadata": {},
   "outputs": [
    {
     "data": {
      "text/plain": [
       "[8, 7, 3, 6, 5, 2, 4, 1, 9, 10, 0]"
      ]
     },
     "execution_count": 17,
     "metadata": {},
     "output_type": "execute_result"
    }
   ],
   "source": []
  }
 ],
 "metadata": {
  "kernelspec": {
   "display_name": "Python 2",
   "language": "python",
   "name": "python2"
  },
  "language_info": {
   "codemirror_mode": {
    "name": "ipython",
    "version": 2
   },
   "file_extension": ".py",
   "mimetype": "text/x-python",
   "name": "python",
   "nbconvert_exporter": "python",
   "pygments_lexer": "ipython2",
   "version": "2.7.13"
  }
 },
 "nbformat": 4,
 "nbformat_minor": 2
}
